{
 "cells": [
  {
   "cell_type": "code",
   "execution_count": null,
   "id": "96e21bb4",
   "metadata": {},
   "outputs": [],
   "source": [
    "import requests\n",
    "from bs4 import BeautifulSoup\n",
    "import re\n",
    "import json\n",
    "import pandas as pd\n",
    "import time\n",
    "\n",
    "headers={'User-Agent':'Mozilla/5.0 (X11; Ubuntu; Linux x86_64; rv:66.0) Gecko/20100101 Firefox/66.0'}"
   ]
  },
  {
   "cell_type": "code",
   "execution_count": null,
   "id": "327ef116",
   "metadata": {},
   "outputs": [],
   "source": [
    "url=\"https://www.swiggy.com\"\n",
    "\n",
    "response_city = requests.get(url,headers=headers)\n",
    "content_city = response_city.content\n",
    "soup = BeautifulSoup(content_city,\"html.parser\")"
   ]
  },
  {
   "cell_type": "code",
   "execution_count": null,
   "id": "32986ba9",
   "metadata": {},
   "outputs": [],
   "source": [
    "city_link = []\n",
    "for i in soup.find_all('li', class_='_2JILy'):\n",
    "    city_link.append('https://www.swiggy.com'+i.find('a').get('href'))"
   ]
  },
  {
   "cell_type": "code",
   "execution_count": null,
   "id": "9465abbf",
   "metadata": {},
   "outputs": [],
   "source": [
    "city_link[0]"
   ]
  },
  {
   "cell_type": "code",
   "execution_count": null,
   "id": "dea566c5",
   "metadata": {},
   "outputs": [],
   "source": [
    "rating = []\n",
    "for city in city_link:\n",
    "    print(city_link.index(city),city)\n",
    "    response_city1 = requests.get(city,headers=headers)\n",
    "    content_city1 = response_city1.content\n",
    "    soup1 = BeautifulSoup(content_city1,\"html.parser\")\n",
    "    try:\n",
    "        for i in soup1.find('div', class_='sc-iBdmCd hPntbc').find_all('div'):\n",
    "            if i.find('a') != None:\n",
    "                response_city2 = requests.get(i.find('a').get('href'),headers=headers)\n",
    "                content_city2 = response_city2.content\n",
    "                soup2 = BeautifulSoup(content_city2,\"html.parser\")\n",
    "                rating.append(soup2.find('span',class_='RestaurantRatings_avgRating__1TOWY').text.strip())\n",
    "                print(soup2.find('span',class_='RestaurantRatings_avgRating__1TOWY').text.strip())\n",
    "    except:\n",
    "        pass"
   ]
  },
  {
   "cell_type": "code",
   "execution_count": null,
   "id": "48bc3883",
   "metadata": {},
   "outputs": [],
   "source": [
    "name_city =soup.find_all(\"ul\",attrs={\"class\": \"_1w9D3\"})"
   ]
  },
  {
   "cell_type": "code",
   "execution_count": null,
   "id": "18dfb11c",
   "metadata": {
    "scrolled": true
   },
   "outputs": [],
   "source": [
    "city_link = []\n",
    "for i in range(0,4):\n",
    "    for a in name_city[i]:\n",
    "\n",
    "        name = a.find(\"a\",attrs={\"class\": \"_3TjLz b-Hy9\"})\n",
    "        city_link.append(name.get('href'))"
   ]
  },
  {
   "cell_type": "code",
   "execution_count": null,
   "id": "195eaacc",
   "metadata": {},
   "outputs": [],
   "source": [
    "city_link[0]"
   ]
  },
  {
   "cell_type": "code",
   "execution_count": null,
   "id": "b6822948",
   "metadata": {},
   "outputs": [],
   "source": [
    "url+city_link[0]"
   ]
  },
  {
   "cell_type": "code",
   "execution_count": null,
   "id": "6c5dc9e0",
   "metadata": {},
   "outputs": [],
   "source": [
    "city_link"
   ]
  },
  {
   "cell_type": "code",
   "execution_count": null,
   "id": "6975e31f",
   "metadata": {},
   "outputs": [],
   "source": [
    "url+city_link[1]"
   ]
  },
  {
   "cell_type": "code",
   "execution_count": null,
   "id": "61036b0a",
   "metadata": {
    "scrolled": true
   },
   "outputs": [],
   "source": [
    "url_region=[]\n",
    "url_rest1=[]\n",
    "for i in range(len(city_link)):\n",
    "    try:\n",
    "        response_region = requests.get(url+city_link[i],headers=headers)\n",
    "        time.sleep(3)\n",
    "        if response_region.status_code==200:\n",
    "            content_region = response_region.content\n",
    "            soup_region = BeautifulSoup(content_region,\"html.parser\")\n",
    "            name_region =soup_region.find_all(\"div\",attrs={\"class\": \"MZy1T\"})\n",
    "            for j in range(0,4):\n",
    "                for item in name_region[j]:\n",
    "                    item_name = item.find(\"a\",attrs={\"class\": \"_1j_Yo\"})\n",
    "                    print(item_name.get('href'))\n",
    "                    if not item_name:\n",
    "                        page= soup_region.find_all(\"div\",attrs={\"class\": \"_2OmLw\"})\n",
    "    #                     print(page)\n",
    "                        if not page:\n",
    "                            pass\n",
    "                        else:            \n",
    "                            u=[]\n",
    "                            for a in page[0].find_all('a', href=True):\n",
    "    #                             print(a)\n",
    "                                if(a['href']=='#'):\n",
    "                                    u.append(url+city_link[0]) #/////////////////////////////////////////////////////////////\n",
    "                                else:\n",
    "                                    u.append(url+a['href'])\n",
    "    #                         print(u)\n",
    "                            for j in range(len(u)):\n",
    "                                response = requests.get(u[j],headers=headers)\n",
    "                                content = response.content\n",
    "                                soup = BeautifulSoup(content,\"html.parser\")\n",
    "                                link=soup.find_all(\"div\",attrs={\"class\": \"_3XX_A\"})\n",
    "                                for i in range(len(link)):\n",
    "                                    for a in link[i].find_all('a', href=True):\n",
    "    #                                     print(a['href'])\n",
    "                                        url_rest1.append(a['href'])\n",
    "                    else:\n",
    "                        for l in range(len(name_region)):\n",
    "                            for a in name_region[l].find_all('a', href=True):\n",
    "    #                             print(a['href'])\n",
    "                                url_region.append(a['href'])\n",
    "    except Exception as ex:\n",
    "        print(str(ex))\n",
    "    print(\"Total Area: \", len(url_region))\n",
    "    print(len(url_rest1))"
   ]
  },
  {
   "cell_type": "code",
   "execution_count": null,
   "id": "cfeecd06",
   "metadata": {},
   "outputs": [],
   "source": []
  }
 ],
 "metadata": {
  "kernelspec": {
   "display_name": "Python 3 (ipykernel)",
   "language": "python",
   "name": "python3"
  },
  "language_info": {
   "codemirror_mode": {
    "name": "ipython",
    "version": 3
   },
   "file_extension": ".py",
   "mimetype": "text/x-python",
   "name": "python",
   "nbconvert_exporter": "python",
   "pygments_lexer": "ipython3",
   "version": "3.9.13"
  }
 },
 "nbformat": 4,
 "nbformat_minor": 5
}
